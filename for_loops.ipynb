{
 "cells": [
  {
   "cell_type": "markdown",
   "metadata": {},
   "source": [
    "lab"
   ]
  },
  {
   "cell_type": "code",
   "execution_count": 4,
   "metadata": {},
   "outputs": [
    {
     "data": {
      "text/plain": [
       "False"
      ]
     },
     "execution_count": 4,
     "metadata": {},
     "output_type": "execute_result"
    }
   ],
   "source": [
    "boolean_compare = True < True\n",
    "boolean_compare"
   ]
  },
  {
   "cell_type": "markdown",
   "metadata": {},
   "source": [
    "hello world"
   ]
  },
  {
   "cell_type": "code",
   "execution_count": 5,
   "metadata": {},
   "outputs": [
    {
     "data": {
      "text/plain": [
       "False"
      ]
     },
     "execution_count": 5,
     "metadata": {},
     "output_type": "execute_result"
    }
   ],
   "source": [
    "boolean_compare2 = False == True # False\n",
    "boolean_compare2"
   ]
  },
  {
   "cell_type": "code",
   "execution_count": 6,
   "metadata": {},
   "outputs": [],
   "source": [
    "makeup = ['Lipstick', 'eyeshadow', 'powder', 'eyepencil']"
   ]
  },
  {
   "cell_type": "code",
   "execution_count": 8,
   "metadata": {},
   "outputs": [
    {
     "name": "stdout",
     "output_type": "stream",
     "text": [
      "Lipstick\n",
      "eyeshadow\n",
      "powder\n",
      "eyepencil\n"
     ]
    }
   ],
   "source": [
    "for mua_items in makeup:\n",
    "    print(mua_items)"
   ]
  },
  {
   "cell_type": "code",
   "execution_count": 11,
   "metadata": {},
   "outputs": [
    {
     "data": {
      "text/plain": [
       "{'English': 76,\n",
       " 'Mathematics': 89,\n",
       " 'Kiswahili': 98,\n",
       " 'science': 98,\n",
       " 'History': 67}"
      ]
     },
     "execution_count": 11,
     "metadata": {},
     "output_type": "execute_result"
    }
   ],
   "source": [
    "subjects = {'English':76, 'Mathematics':89, 'Kiswahili':98, 'science': 98, 'History':67}\n",
    "subjects"
   ]
  },
  {
   "cell_type": "code",
   "execution_count": 19,
   "metadata": {},
   "outputs": [
    {
     "data": {
      "text/plain": [
       "dict_items([('English', 76), ('Mathematics', 89), ('Kiswahili', 98), ('science', 98), ('History', 67)])"
      ]
     },
     "execution_count": 19,
     "metadata": {},
     "output_type": "execute_result"
    }
   ],
   "source": [
    "dict.items(subjects)"
   ]
  },
  {
   "cell_type": "code",
   "execution_count": 21,
   "metadata": {},
   "outputs": [
    {
     "name": "stdout",
     "output_type": "stream",
     "text": [
      "English 76\n",
      "Mathematics 89\n",
      "Kiswahili 98\n",
      "science 98\n",
      "History 67\n"
     ]
    }
   ],
   "source": [
    "for subject,marks in dict.items(subjects):\n",
    "    print(subject,marks)\n"
   ]
  },
  {
   "cell_type": "code",
   "execution_count": 11,
   "metadata": {},
   "outputs": [],
   "source": [
    "new_employees = ['jim', 'tracy', 'lisa']"
   ]
  },
  {
   "cell_type": "code",
   "execution_count": 12,
   "metadata": {},
   "outputs": [],
   "source": [
    "# new_employees = ['jim', 'tracy', 'lisa']\n",
    "# for employee in new_employees:\n",
    "    # print (\"Welcome \"+ employee + \" to the team!\")\n",
    "# print (employee)\n",
    "# "
   ]
  },
  {
   "cell_type": "markdown",
   "metadata": {},
   "source": [
    "DECLARING A FUNCTION \n",
    "Tell python we want to declare the function by the 'def' keyword, proceed to function name, paranthesis() then colon \n",
    "\n",
    "e.g def function_name():\n",
    "\n",
    "\n",
    "\n",
    "\n"
   ]
  },
  {
   "cell_type": "code",
   "execution_count": 15,
   "metadata": {},
   "outputs": [],
   "source": [
    "def welcome_message():\n",
    "    message = []\n",
    "    for employee in new_employees:\n",
    "        message.append(\"Welcome \" + employee + \" to the team!\")\n",
    "\n",
    "    return message\n",
    "\n"
   ]
  },
  {
   "cell_type": "code",
   "execution_count": 16,
   "metadata": {},
   "outputs": [
    {
     "data": {
      "text/plain": [
       "['Welcome jim to the team!',\n",
       " 'Welcome tracy to the team!',\n",
       " 'Welcome lisa to the team!']"
      ]
     },
     "execution_count": 16,
     "metadata": {},
     "output_type": "execute_result"
    }
   ],
   "source": [
    "welcome_message()"
   ]
  },
  {
   "cell_type": "code",
   "execution_count": 22,
   "metadata": {},
   "outputs": [],
   "source": [
    "capitalized_destinations = ['argentina', 'mexico', 'italy', 'finland', 'canada', 'croatia']\n",
    "def capitalize_countries():\n",
    "    for city in capitalized_destinations:\n",
    "        print (city.capitalize())\n",
    "    return city"
   ]
  },
  {
   "cell_type": "code",
   "execution_count": null,
   "metadata": {},
   "outputs": [
    {
     "name": "stdout",
     "output_type": "stream",
     "text": [
      "Argentina\n",
      "Mexico\n",
      "Italy\n",
      "Finland\n",
      "Canada\n",
      "Croatia\n"
     ]
    },
    {
     "data": {
      "text/plain": [
       "'croatia'"
      ]
     },
     "execution_count": 23,
     "metadata": {},
     "output_type": "execute_result"
    }
   ],
   "source": [
    "capitalize_countries()"
   ]
  },
  {
   "cell_type": "code",
   "execution_count": null,
   "metadata": {},
   "outputs": [],
   "source": [
    "def project_group():\n",
    "    print ('Your project is near completion')\n",
    "    return project_group\n"
   ]
  },
  {
   "cell_type": "code",
   "execution_count": 43,
   "metadata": {},
   "outputs": [
    {
     "name": "stdout",
     "output_type": "stream",
     "text": [
      "Your project is near completion\n"
     ]
    },
    {
     "data": {
      "text/plain": [
       "<function __main__.project_group()>"
      ]
     },
     "execution_count": 43,
     "metadata": {},
     "output_type": "execute_result"
    }
   ],
   "source": [
    "project_group()"
   ]
  },
  {
   "cell_type": "markdown",
   "metadata": {},
   "source": [
    "nested loops \n"
   ]
  },
  {
   "cell_type": "code",
   "execution_count": 41,
   "metadata": {},
   "outputs": [
    {
     "name": "stdout",
     "output_type": "stream",
     "text": [
      "0 this is the outside loop that waits the inside loop (0-5)to finish   this is the inside loop that needs to reach 1-4 to end to go to the outside loop 1\n",
      "0 this is the outside loop that waits the inside loop (0-5)to finish   this is the inside loop that needs to reach 1-4 to end to go to the outside loop 2\n",
      "0 this is the outside loop that waits the inside loop (0-5)to finish   this is the inside loop that needs to reach 1-4 to end to go to the outside loop 3\n",
      "0 this is the outside loop that waits the inside loop (0-5)to finish   this is the inside loop that needs to reach 1-4 to end to go to the outside loop 4\n",
      "1 this is the outside loop that waits the inside loop (0-5)to finish   this is the inside loop that needs to reach 1-4 to end to go to the outside loop 1\n",
      "1 this is the outside loop that waits the inside loop (0-5)to finish   this is the inside loop that needs to reach 1-4 to end to go to the outside loop 2\n",
      "1 this is the outside loop that waits the inside loop (0-5)to finish   this is the inside loop that needs to reach 1-4 to end to go to the outside loop 3\n",
      "1 this is the outside loop that waits the inside loop (0-5)to finish   this is the inside loop that needs to reach 1-4 to end to go to the outside loop 4\n",
      "2 this is the outside loop that waits the inside loop (0-5)to finish   this is the inside loop that needs to reach 1-4 to end to go to the outside loop 1\n",
      "2 this is the outside loop that waits the inside loop (0-5)to finish   this is the inside loop that needs to reach 1-4 to end to go to the outside loop 2\n",
      "2 this is the outside loop that waits the inside loop (0-5)to finish   this is the inside loop that needs to reach 1-4 to end to go to the outside loop 3\n",
      "2 this is the outside loop that waits the inside loop (0-5)to finish   this is the inside loop that needs to reach 1-4 to end to go to the outside loop 4\n",
      "3 this is the outside loop that waits the inside loop (0-5)to finish   this is the inside loop that needs to reach 1-4 to end to go to the outside loop 1\n",
      "3 this is the outside loop that waits the inside loop (0-5)to finish   this is the inside loop that needs to reach 1-4 to end to go to the outside loop 2\n",
      "3 this is the outside loop that waits the inside loop (0-5)to finish   this is the inside loop that needs to reach 1-4 to end to go to the outside loop 3\n",
      "3 this is the outside loop that waits the inside loop (0-5)to finish   this is the inside loop that needs to reach 1-4 to end to go to the outside loop 4\n",
      "4 this is the outside loop that waits the inside loop (0-5)to finish   this is the inside loop that needs to reach 1-4 to end to go to the outside loop 1\n",
      "4 this is the outside loop that waits the inside loop (0-5)to finish   this is the inside loop that needs to reach 1-4 to end to go to the outside loop 2\n",
      "4 this is the outside loop that waits the inside loop (0-5)to finish   this is the inside loop that needs to reach 1-4 to end to go to the outside loop 3\n",
      "4 this is the outside loop that waits the inside loop (0-5)to finish   this is the inside loop that needs to reach 1-4 to end to go to the outside loop 4\n"
     ]
    }
   ],
   "source": [
    "for main_index in range (0,5):\n",
    "    #  print index\n",
    "    for inside_index in range (1,5):\n",
    "        print (main_index,\"this is the outside loop that waits the inside loop (0-5)to finish  \",  \"this is the inside loop that needs to reach 1-4 to end to go to the outside loop\",inside_index ) \n",
    "        \n",
    "\n"
   ]
  },
  {
   "cell_type": "code",
   "execution_count": null,
   "metadata": {},
   "outputs": [],
   "source": [
    "people = [{'f_name' : 'James',\n",
    "            'age' : 30,20,45}]"
   ]
  },
  {
   "cell_type": "code",
   "execution_count": null,
   "metadata": {},
   "outputs": [],
   "source": []
  }
 ],
 "metadata": {
  "kernelspec": {
   "display_name": "Python (learn-env)",
   "language": "python",
   "name": "learn-env"
  },
  "language_info": {
   "codemirror_mode": {
    "name": "ipython",
    "version": 3
   },
   "file_extension": ".py",
   "mimetype": "text/x-python",
   "name": "python",
   "nbconvert_exporter": "python",
   "pygments_lexer": "ipython3",
   "version": "3.8.5"
  }
 },
 "nbformat": 4,
 "nbformat_minor": 2
}
